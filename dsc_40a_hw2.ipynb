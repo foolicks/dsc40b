{
  "nbformat": 4,
  "nbformat_minor": 0,
  "metadata": {
    "colab": {
      "provenance": [],
      "authorship_tag": "ABX9TyPQ1rIn2pUa4cJd2x1bn8gY"
    },
    "kernelspec": {
      "name": "python3",
      "display_name": "Python 3"
    },
    "language_info": {
      "name": "python"
    }
  },
  "cells": [
    {
      "cell_type": "markdown",
      "source": [
        "## question a##"
      ],
      "metadata": {
        "id": "cBoXOeN3lxEf"
      }
    },
    {
      "cell_type": "code",
      "source": [
        "import numpy as np\n",
        "\n",
        "\n",
        "def fit_H1(x):\n",
        "    return np.mean(x)\n",
        "\n"
      ],
      "metadata": {
        "id": "qNSMrJkKh07b"
      },
      "execution_count": null,
      "outputs": []
    },
    {
      "cell_type": "markdown",
      "source": [
        "## question b##"
      ],
      "metadata": {
        "id": "oZa64OwumCAF"
      }
    },
    {
      "cell_type": "code",
      "source": [
        "\n",
        "def fit_H2(x, y):\n",
        "    x_mean = np.mean(x)\n",
        "    y_mean = np.mean(y)\n",
        "\n",
        "    numerator = np.sum((x - x_mean) * (y - y_mean))\n",
        "    denominator = np.sum((x - x_mean)**2)\n",
        "\n",
        "    w1 = numerator / denominator\n",
        "    w0 = y_mean - w1 * x_mean\n",
        "\n",
        "    return w0, w1\n",
        "\n"
      ],
      "metadata": {
        "id": "TzV1T9GwjHXL"
      },
      "execution_count": null,
      "outputs": []
    },
    {
      "cell_type": "markdown",
      "source": [
        "##question c##"
      ],
      "metadata": {
        "id": "zvgufeJ5mN3Z"
      }
    },
    {
      "cell_type": "code",
      "source": [
        "#\n",
        "def ascii_plot(x, y, w0_H1, w0_H2, w1_H2, width=50, height=20):\n",
        "    x_min, x_max = min(x), max(x)\n",
        "    y_min, y_max = min(y), max(y)\n",
        "\n",
        "    # Create the plot canvas\n",
        "    plot = [[' ' for _ in range(width)] for _ in range(height)]\n",
        "\n",
        "    # Plot data points\n",
        "    for xi, yi in zip(x, y):\n",
        "        px = int((xi - x_min) / (x_max - x_min) * (width - 1))\n",
        "        py = int((yi - y_min) / (y_max - y_min) * (height - 1))\n",
        "        plot[height - 1 - py][px] = '.'\n",
        "\n",
        "    # Plot H1\n",
        "    h1_y = int((w0_H1 - y_min) / (y_max - y_min) * (height - 1))\n",
        "    for i in range(width):\n",
        "        if 0 <= height - 1 - h1_y < height:\n",
        "            plot[height - 1 - h1_y][i] = '-'\n",
        "\n",
        "    # Plot H2\n",
        "    for i in range(width):\n",
        "        x_val = x_min + (x_max - x_min) * i / (width - 1)\n",
        "        y_val = w0_H2 + w1_H2 * x_val\n",
        "        py = int((y_val - y_min) / (y_max - y_min) * (height - 1))\n",
        "        if 0 <= height - 1 - py < height:\n",
        "            plot[height - 1 - py][i] = '/'\n",
        "\n",
        "    # Print the plot\n",
        "    for row in plot:\n",
        "        print(''.join(row))\n",
        "\n",
        "    print(\"\\nLegend:\")\n",
        "    print(\". : Data points\")\n",
        "    print(\"- : H1(x)\")\n",
        "    print(\"/ : H2(x)\")\n",
        "\n",
        "# Example usage:\n",
        "x = np.array([-5, -1, 2, 4])\n",
        "y = np.array([-10, -5, 5, 10])\n",
        "\n",
        "w0_H1 = fit_H1(x)\n",
        "w0_H2, w1_H2 = fit_H2(x, y)\n",
        "\n",
        "ascii_plot(x, y, w0_H1, w0_H2, w1_H2)\n",
        "\n"
      ],
      "metadata": {
        "colab": {
          "base_uri": "https://localhost:8080/"
        },
        "id": "HQVBuOI9oh4V",
        "outputId": "4218ec8c-c1f4-4305-f9b9-adcc084dd2f4"
      },
      "execution_count": null,
      "outputs": [
        {
          "output_type": "stream",
          "name": "stdout",
          "text": [
            "                                                 .\n",
            "                                                 /\n",
            "                                               // \n",
            "                                            ///   \n",
            "                                          //      \n",
            "                                      .///        \n",
            "                                     //           \n",
            "                                  ///             \n",
            "                               ///                \n",
            "                             //                   \n",
            "--------------------------///---------------------\n",
            "                        //                        \n",
            "                     ///                          \n",
            "                   //                             \n",
            "                ///                               \n",
            "              //     .                            \n",
            "           ///                                    \n",
            "         //                                       \n",
            "      ///                                         \n",
            "./////                                            \n",
            "\n",
            "Legend:\n",
            ". : Data points\n",
            "- : H1(x)\n",
            "/ : H2(x)\n"
          ]
        }
      ]
    },
    {
      "cell_type": "markdown",
      "source": [
        "##question d"
      ],
      "metadata": {
        "id": "Zpce0D3ImdHr"
      }
    },
    {
      "cell_type": "code",
      "source": [
        "#\n",
        "# Matrix method implementation remains the same\n",
        "def fit_H2_matrix(x, y):\n",
        "    \"\"\"\n",
        "    >>>w0_matrix, w1_matrix = fit_H2_matrix(x, y)\n",
        "    H2 method: w0 = 0.0000, w1 = 2.2826\n",
        "    Matrix method: w0 = 0.0000, w1 = 2.2826\n",
        "    \"\"\"\n",
        "    X = np.column_stack((np.ones_like(x), x))\n",
        "    w = np.linalg.inv(X.T @ X) @ X.T @ y\n",
        "    return w[0], w[1]  # w0, w1\n",
        "\n",
        "# Comparing results\n",
        "w0_matrix, w1_matrix = fit_H2_matrix(x, y)\n",
        "print(f\"\\nH2 method: w0 = {w0_H2:.4f}, w1 = {w1_H2:.4f}\")\n",
        "print(f\"Matrix method: w0 = {w0_matrix:.4f}, w1 = {w1_matrix:.4f}\")\n",
        "\n"
      ],
      "metadata": {
        "colab": {
          "base_uri": "https://localhost:8080/"
        },
        "id": "hqQtaR1lonH-",
        "outputId": "742fa551-c982-45c1-ebd1-fa16724a20a4"
      },
      "execution_count": null,
      "outputs": [
        {
          "output_type": "stream",
          "name": "stdout",
          "text": [
            "\n",
            "H2 method: w0 = 0.0000, w1 = 2.2826\n",
            "Matrix method: w0 = 0.0000, w1 = 2.2826\n"
          ]
        }
      ]
    },
    {
      "cell_type": "code",
      "source": [],
      "metadata": {
        "id": "b_YcL1RLusE2"
      },
      "execution_count": null,
      "outputs": []
    }
  ]
}