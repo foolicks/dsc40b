{
  "nbformat": 4,
  "nbformat_minor": 0,
  "metadata": {
    "colab": {
      "provenance": [],
      "authorship_tag": "ABX9TyOJtfohBfr3UWzRSZoePpcj"
    },
    "kernelspec": {
      "name": "python3",
      "display_name": "Python 3"
    },
    "language_info": {
      "name": "python"
    }
  },
  "cells": [
    {
      "cell_type": "markdown",
      "source": [
        "##question a ##\n"
      ],
      "metadata": {
        "id": "yTnWE1L_p2mI"
      }
    },
    {
      "cell_type": "code",
      "execution_count": null,
      "metadata": {
        "colab": {
          "base_uri": "https://localhost:8080/"
        },
        "id": "U5Pv800luQhm",
        "outputId": "0d49feeb-45da-411b-8e16-d95a5ab024a8"
      },
      "outputs": [
        {
          "output_type": "stream",
          "name": "stdout",
          "text": [
            "w0 = 499999.9999999943\n",
            "w1 = 99999.9999999985\n",
            "w2 = 2.9849616112187505e-09\n"
          ]
        }
      ],
      "source": [
        "import numpy as np\n",
        "\n",
        "X = np.array([[1, 3, 2],\n",
        "              [1, 2, 2],\n",
        "              [1, 1, 1]])\n",
        "\n",
        "y = np.array([800000, 700000, 600000])\n",
        "\n",
        "X_T = X.transpose()\n",
        "X_T_X = np.dot(X_T, X)\n",
        "X_T_X_inv = np.linalg.inv(X_T_X)\n",
        "X_T_y = np.dot(X_T, y)\n",
        "\n",
        "w = np.dot(X_T_X_inv, X_T_y)\n",
        "\n",
        "print(\"w0 =\", w[0])\n",
        "print(\"w1 =\", w[1])\n",
        "print(\"w2 =\", w[2])"
      ]
    },
    {
      "cell_type": "markdown",
      "source": [
        "$50000+10000($ Bedroom $)+0($ Bath $)=$ Price $_1$\n"
      ],
      "metadata": {
        "id": "N89XtwJPYR4Q"
      }
    },
    {
      "cell_type": "markdown",
      "source": [
        "## question b ##\n"
      ],
      "metadata": {
        "id": "C_wCd7YnasFc"
      }
    },
    {
      "cell_type": "code",
      "source": [
        "\n",
        "X = np.array([[1, 3, 2, 900],\n",
        "              [1, 2, 2, 500],\n",
        "              [1, 1, 1, 400],\n",
        "              [1, 1, 1, 200],\n",
        "              [1, 4, 3, 1200]])\n",
        "\n",
        "y = np.array([800000, 700000, 600000, 500000, 1000000])\n",
        "\n",
        "X_T = X.transpose()\n",
        "X_T_X = np.dot(X_T, X)\n",
        "X_T_X_inv = np.linalg.inv(X_T_X)\n",
        "X_T_y = np.dot(X_T, y)\n",
        "\n",
        "w = np.dot(X_T_X_inv, X_T_y)\n",
        "\n",
        "print(\"w0 =\", w[0])\n",
        "print(\"w1 =\", w[1])\n",
        "print(\"w2 =\", w[2])\n",
        "print(\"w3 =\", w[3])"
      ],
      "metadata": {
        "colab": {
          "base_uri": "https://localhost:8080/"
        },
        "id": "7sf8icdeumVz",
        "outputId": "055dfdc7-1d66-43b4-ad8d-3881985192a9"
      },
      "execution_count": null,
      "outputs": [
        {
          "output_type": "stream",
          "name": "stdout",
          "text": [
            "w0 = 350000.00000004657\n",
            "w1 = -100000.0\n",
            "w2 = 149999.99999999255\n",
            "w3 = 499.9999999999782\n"
          ]
        }
      ]
    },
    {
      "cell_type": "markdown",
      "source": [
        "$35000+-10000($ Bedroom $)+150000($ Bath $)+500($Area)=$ Price $_2\n"
      ],
      "metadata": {
        "id": "c3TJEr7cqOmz"
      }
    },
    {
      "cell_type": "markdown",
      "source": [
        "##question c##"
      ],
      "metadata": {
        "id": "wXiqslpvtBz6"
      }
    },
    {
      "cell_type": "markdown",
      "source": [
        "<mark>The unintutive aspect is where the price is lowering with each bedroom being added. By factor of -10000 versus the other attributes of the model increasing the price with additional bedrooms(150000) or area(500)."
      ],
      "metadata": {
        "id": "0R5-eyGdtIR4"
      }
    },
    {
      "cell_type": "code",
      "source": [
        "import numpy as np\n",
        "from numpy.linalg import inv\n",
        "\n",
        "# Example data points (same as used in Part (b))\n",
        "data = np.array([\n",
        "    [2, 1, 1500, 500000],\n",
        "    [3, 2, 2000, 650000],\n",
        "    [4, 3, 2500, 800000],\n",
        "    [5, 4, 3000, 950000],\n",
        "    [6, 5, 3500, 1100000]\n",
        "])\n",
        "\n",
        "# Prepare the design matrix X with the additional squared term for bedrooms\n",
        "X = np.ones((data.shape[0], 5))  # Adding a column of ones for the intercept\n",
        "X[:, 1] = data[:, 0]  # Bedrooms\n",
        "X[:, 2] = data[:, 0] ** 2  # Bedrooms^2\n",
        "X[:, 3] = data[:, 1]  # Baths\n",
        "X[:, 4] = data[:, 2]  # Area\n",
        "Y = data[:, 3]  # Prices\n",
        "\n",
        "# Regularization parameter\n",
        "lambda_reg = 1.0\n",
        "\n",
        "# Identity matrix with regularization term\n",
        "I = np.eye(X.shape[1])\n",
        "I[0, 0] = 0  # Don't regularize the intercept\n",
        "\n",
        "# Regularized normal equation\n",
        "w_reg = inv(X.T @ X + lambda_reg * I) @ X.T @ Y\n",
        "\n",
        "# Convert weights to a list for easier interpretation\n",
        "w_reg = w_reg.tolist()\n",
        "\n",
        "print(\"Weights for the new model with regularization:\", w_reg)"
      ],
      "metadata": {
        "colab": {
          "base_uri": "https://localhost:8080/"
        },
        "id": "4HZXq7Jc2nLX",
        "outputId": "933e4c8d-d510-47ca-b4bd-e651d8cd4bcb"
      },
      "execution_count": null,
      "outputs": [
        {
          "output_type": "stream",
          "name": "stdout",
          "text": [
            "Weights for the new model with regularization: [50009.13976719988, 0.5999847473681097, 0.31999184820585214, 0.59998472142983, 299.9923601945672]\n"
          ]
        }
      ]
    },
    {
      "cell_type": "code",
      "source": [
        "import numpy as np\n",
        "\n",
        "X = np.array([[1, 3, 9, 2, 900],\n",
        "              [1, 2, 4, 2, 500],\n",
        "              [1, 1, 1, 1, 400],\n",
        "              [1, 1, 1, 1, 200],\n",
        "              [1, 4, 16, 3, 1200]])\n",
        "\n",
        "y = np.array([800000, 700000, 600000, 500000, 1000000])\n",
        "\n",
        "X_T = X.transpose()\n",
        "X_T_X = np.dot(X_T, X)\n",
        "X_T_X_inv = np.linalg.inv(X_T_X)\n",
        "X_T_y = np.dot(X_T, y)\n",
        "\n",
        "w = np.dot(X_T_X_inv, X_T_y)\n",
        "\n",
        "for i in range(5):\n",
        "    print(f\"w{i} = {w[i]}\")"
      ],
      "metadata": {
        "id": "hxrS6hY-6_iY",
        "outputId": "41b03d05-0477-4f16-b21b-d3f6f71d2370",
        "colab": {
          "base_uri": "https://localhost:8080/"
        }
      },
      "execution_count": null,
      "outputs": [
        {
          "output_type": "stream",
          "name": "stdout",
          "text": [
            "w0 = 350000.00000013073\n",
            "w1 = -100000.00000004045\n",
            "w2 = 4.000112213686791e-09\n",
            "w3 = 150000.0000000125\n",
            "w4 = 500.00000000002143\n"
          ]
        }
      ]
    },
    {
      "cell_type": "markdown",
      "source": [
        "##question d ###"
      ],
      "metadata": {
        "id": "CP37LKHetph9"
      }
    },
    {
      "cell_type": "markdown",
      "source": [
        "Price $=350000+(-100000)(4)+150000(2)+500(800)$ = 650000"
      ],
      "metadata": {
        "id": "QjTIHtIAemqI"
      }
    },
    {
      "cell_type": "markdown",
      "source": [
        "##question e"
      ],
      "metadata": {
        "id": "_zanTeEOuZxw"
      }
    },
    {
      "cell_type": "code",
      "source": [
        "X = np.array([[1, 3, 9, 2, 900],\n",
        "              [1, 2, 4, 2, 500],\n",
        "              [1, 1, 1, 1, 400],\n",
        "              [1, 1, 1, 1, 200],\n",
        "              [1, 4, 16, 3, 1200]])\n",
        "\n",
        "y = np.array([800000, 700000, 600000, 500000, 1000000])\n",
        "\n",
        "X_T = X.transpose()\n",
        "X_T_X = np.dot(X_T, X)\n",
        "X_T_X_inv = np.linalg.inv(X_T_X)\n",
        "X_T_y = np.dot(X_T, y)\n",
        "\n",
        "w = np.dot(X_T_X_inv, X_T_y)\n",
        "\n",
        "for i in range(5):\n",
        "    print(f\"w{i} = {w[i]}\")"
      ],
      "metadata": {
        "colab": {
          "base_uri": "https://localhost:8080/"
        },
        "id": "OqybY0TBuo1n",
        "outputId": "79989f44-5556-4533-e663-6b7c8edd0dbd"
      },
      "execution_count": null,
      "outputs": [
        {
          "output_type": "stream",
          "name": "stdout",
          "text": [
            "w0 = 350000.00000013073\n",
            "w1 = -100000.00000004045\n",
            "w2 = 4.000112213686791e-09\n",
            "w3 = 150000.0000000125\n",
            "w4 = 500.00000000002143\n"
          ]
        }
      ]
    },
    {
      "cell_type": "code",
      "source": [],
      "metadata": {
        "id": "2UZLq_TXuP2R"
      },
      "execution_count": null,
      "outputs": []
    }
  ]
}